{
 "cells": [
  {
   "cell_type": "code",
   "execution_count": 11,
   "metadata": {},
   "outputs": [
    {
     "name": "stdout",
     "output_type": "stream",
     "text": [
      "MEHRAN\n",
      "RED\n",
      "2012\n",
      "FSZ110\n",
      "6 person sitting capacity\n",
      "110km per hour\n",
      "5 gears in car\n",
      "other facilities are Air Condition, Radio etc\n"
     ]
    }
   ],
   "source": [
    "# question 5\n",
    "\n",
    "class Car():\n",
    "    def __init__(self,name,colour,model,numberplate,sittingcapacity):\n",
    "        self.name = name\n",
    "        self.colour = colour\n",
    "        self.model = model\n",
    "        self.numberplate = numberplate\n",
    "        self.sittingcapacity = sittingcapacity\n",
    "        \n",
    "    def speed(self,perhourspeed):\n",
    "        self.perhourspeed = perhourspeed\n",
    "       \n",
    "    def gear(self,gear):\n",
    "        self.gear = gear\n",
    "        \n",
    "    def otherfacilities(self,otherfacilities):\n",
    "        self.otherfacilities = otherfacilities\n",
    "        \n",
    "car1 = Car(\"MEHRAN\",\"RED\",\"2012\",\"FSZ110\",\"6\") \n",
    "print(car1.name)\n",
    "print(car1.colour)\n",
    "print(car1.model)\n",
    "print(car1.numberplate)\n",
    "print(car1.sittingcapacity,'person sitting capacity')\n",
    "\n",
    "car1.speed('110km per hour')\n",
    "print(car1.perhourspeed)\n",
    "\n",
    "car1.gear(\"5\")\n",
    "print(car1.gear,'gears in car')\n",
    "\n",
    "car1.otherfacilities(\"Air Condition, Radio etc\")\n",
    "print('other facilities are',car1.otherfacilities)"
   ]
  },
  {
   "cell_type": "code",
   "execution_count": 1,
   "metadata": {},
   "outputs": [
    {
     "name": "stdout",
     "output_type": "stream",
     "text": [
      "OBJECT ORIENTED PROGRAMMING(OOP)\n",
      "\n",
      "\n",
      "Python is a multi-paradigm programming language.It supports different programming approach.\n",
      "One of the popular approach to solve a programming problem is by creating object.\n",
      "This is known as Object Oriented Programming(OOP).\n"
     ]
    }
   ],
   "source": [
    "# Questiin 1\n",
    "print(\"OBJECT ORIENTED PROGRAMMING(OOP)\")\n",
    "print(\"\\n\")\n",
    "print(\"Python is a multi-paradigm programming language.It supports different programming approach.\")\n",
    "print(\"One of the popular approach to solve a programming problem is by creating object.\")\n",
    "print(\"This is known as Object Oriented Programming(OOP).\")\n"
   ]
  },
  {
   "cell_type": "code",
   "execution_count": 2,
   "metadata": {},
   "outputs": [
    {
     "name": "stdout",
     "output_type": "stream",
     "text": [
      "Benefits of OOP in Python\n",
      "\n",
      "\n",
      "1) A computer programme is written in the form of object and classes which can be reused in other projects as well.\n",
      "2) OOP development is faster and cheaper with better software maintainability.\n",
      "3) It leads to higher quality software which is also extensible with new methods and attributes.\n",
      "4) In OOP if an error occurs in one part of the code you can rectify it locally without affect other part of the code.\n"
     ]
    }
   ],
   "source": [
    "# Question 2\n",
    "print (\"Benefits of OOP in Python\")\n",
    "print(\"\\n\")\n",
    "print(\"1) A computer programme is written in the form of object and classes which can be reused in other projects as well.\")\n",
    "print(\"2) OOP development is faster and cheaper with better software maintainability.\")\n",
    "print(\"3) It leads to higher quality software which is also extensible with new methods and attributes.\")\n",
    "print(\"4) In OOP if an error occurs in one part of the code you can rectify it locally without affect other part of the code.\")"
   ]
  },
  {
   "cell_type": "code",
   "execution_count": 3,
   "metadata": {},
   "outputs": [
    {
     "name": "stdout",
     "output_type": "stream",
     "text": [
      "Different between methods and functions\n",
      "\n",
      "\n",
      "1# Methods are associated with object instance and classes while functions are not.\n",
      "2# A method is able to operate the data within the class while function is created outside the class.\n",
      "3# Method must need object reference while function doesnot need this.\n"
     ]
    }
   ],
   "source": [
    "# Question no 3\n",
    "\n",
    "print(\"Different between methods and functions\")\n",
    "print(\"\\n\")\n",
    "\n",
    "print(\"1# Methods are associated with object instance and classes while functions are not.\")\n",
    "print(\"2# A method is able to operate the data within the class while function is created outside the class.\")\n",
    "print(\"3# Method must need object reference while function doesnot need this.\")"
   ]
  },
  {
   "cell_type": "code",
   "execution_count": 4,
   "metadata": {},
   "outputs": [
    {
     "name": "stdout",
     "output_type": "stream",
     "text": [
      "Define the following terms...\n",
      "\n",
      "\n",
      "CLASS_\n",
      "A class is a code template for creating objects. It is created by the keyword class.\n",
      "\n",
      "\n",
      "OBJECTS_\n",
      "Objects is simply a collection of data(variables) and method(functions) that act on those data.\n",
      "\n",
      "\n",
      "BEHAVIOR\n",
      "Behavior are actions that can occur on an object. The behaviors that can be performed on a specific class of object are called methods\n",
      "\n",
      "\n",
      "ATTRIBUTES_\n",
      "An instance attribute is a python variable belonging to one and only one object. a class attribute belongs to a class rather than a particular object\n"
     ]
    }
   ],
   "source": [
    "# Question no 4\n",
    "\n",
    "print(\"Define the following terms...\")\n",
    "print(\"\\n\")\n",
    "print(\"CLASS_\")\n",
    "print(\"A class is a code template for creating objects. It is created by the keyword class.\")\n",
    "print(\"\\n\")\n",
    "print(\"OBJECTS_\")\n",
    "print(\"Objects is simply a collection of data(variables) and method(functions) that act on those data.\")\n",
    "print(\"\\n\")\n",
    "print(\"BEHAVIOR\")\n",
    "print(\"Behavior are actions that can occur on an object. The behaviors that can be performed on a specific class of object are called methods\")\n",
    "print(\"\\n\")\n",
    "print(\"ATTRIBUTES_\")\n",
    "print(\"An instance attribute is a python variable belonging to one and only one object. a class attribute belongs to a class rather than a particular object\")"
   ]
  },
  {
   "cell_type": "code",
   "execution_count": null,
   "metadata": {},
   "outputs": [],
   "source": []
  }
 ],
 "metadata": {
  "kernelspec": {
   "display_name": "Python 3",
   "language": "python",
   "name": "python3"
  },
  "language_info": {
   "codemirror_mode": {
    "name": "ipython",
    "version": 3
   },
   "file_extension": ".py",
   "mimetype": "text/x-python",
   "name": "python",
   "nbconvert_exporter": "python",
   "pygments_lexer": "ipython3",
   "version": "3.7.4"
  }
 },
 "nbformat": 4,
 "nbformat_minor": 2
}
