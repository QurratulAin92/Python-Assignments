{
 "cells": [
  {
   "cell_type": "code",
   "execution_count": null,
   "metadata": {},
   "outputs": [],
   "source": [
    "# question no 6\n",
    "\n",
    "def shopping(item1,item2,item3,*param):\n",
    "    print(\"The items which customer bought from market are....\")\n",
    "    print(item1)\n",
    "    print(item2)\n",
    "    print(item3)\n",
    "    for parameter in param:\n",
    "        print(parameter)\n",
    "shopping(\"Chocolates\",\"Furnitures\",\"Stationary\",\"Cell phones\",\"Jewellery\",\"Books\",\"Multiple items\")\n"
   ]
  },
  {
   "cell_type": "code",
   "execution_count": null,
   "metadata": {},
   "outputs": [],
   "source": [
    "#Question no 3\n",
    "\n",
    "def even_numbers():\n",
    "\n",
    "    arr = [2,5,6,4,3,7,8,9,0]\n",
    "\n",
    "    for numbers in arr:\n",
    "        if numbers % 2 == 0:\n",
    "            print(numbers)\n",
    "even_numbers()\n",
    " "
   ]
  },
  {
   "cell_type": "code",
   "execution_count": null,
   "metadata": {},
   "outputs": [],
   "source": [
    "# question no 5\n",
    "\n",
    "def prime_num(num):\n",
    "    if (num != 2  and num != 3 and num != 5  and num != 7) and (num % 2 == 0 or num % 3 == 0 or num % 5 == 0 or num % 7 == 0):\n",
    "            print(\"It is not prime number\")\n",
    "    else:   print(\"It is a prime number\")    \n",
    "prime_num(13)"
   ]
  },
  {
   "cell_type": "code",
   "execution_count": null,
   "metadata": {},
   "outputs": [],
   "source": [
    "# question no 1\n",
    "\n",
    "def factorial_of_num(num):\n",
    "    \n",
    "       if num>0:  \n",
    "        minus = num-1\n",
    "        mul = num*minus\n",
    "        print(mul)\n",
    "        \n",
    "factorial_of_num(3)"
   ]
  }
 ],
 "metadata": {
  "kernelspec": {
   "display_name": "Python 3",
   "language": "python",
   "name": "python3"
  },
  "language_info": {
   "codemirror_mode": {
    "name": "ipython",
    "version": 3
   },
   "file_extension": ".py",
   "mimetype": "text/x-python",
   "name": "python",
   "nbconvert_exporter": "python",
   "pygments_lexer": "ipython3",
   "version": "3.7.4"
  }
 },
 "nbformat": 4,
 "nbformat_minor": 2
}
