{
 "cells": [
  {
   "cell_type": "code",
   "execution_count": 16,
   "metadata": {},
   "outputs": [
    {
     "name": "stdout",
     "output_type": "stream",
     "text": [
      "{'first_name': 'Ahmed', 'last_name': 'Raza', 'age': '25', 'city': 'Karachi'}\n"
     ]
    }
   ],
   "source": [
    "# question 1\n",
    "person = {  \n",
    "    \"first_name\":\"Ahmed\",\n",
    "    \"last_name\":\"Raza\",\n",
    "    \"age\":\"25\",\n",
    "    \"city\":\"Karachi\"\n",
    "}\n",
    "print(person)"
   ]
  },
  {
   "cell_type": "code",
   "execution_count": 22,
   "metadata": {},
   "outputs": [
    {
     "name": "stdout",
     "output_type": "stream",
     "text": [
      "{'first_name': 'Ahmed', 'last_name': 'Raza', 'age': '25', 'city': 'Karachi', 'qualification': 'Graduation'}\n",
      "{'first_name': 'Ahmed', 'last_name': 'Raza', 'age': '25', 'city': 'Karachi'}\n"
     ]
    }
   ],
   "source": [
    "person[\"qualification\"] = \"Graduation\"\n",
    "print(person)\n",
    "del person[\"qualification\"]\n",
    "print(person)"
   ]
  },
  {
   "cell_type": "code",
   "execution_count": 29,
   "metadata": {},
   "outputs": [
    {
     "name": "stdout",
     "output_type": "stream",
     "text": [
      "{'Name': 'Karachi', 'Country': 'Pakistan', 'Population': '2 crore', 'Fact': 'City of lights'}\n"
     ]
    }
   ],
   "source": [
    "#question 2\n",
    "cities = {\n",
    "    \"karachi\":\n",
    "    {\n",
    "        \"Name\":\"Karachi\",\n",
    "        \"Country\":\"Pakistan\",\n",
    "        \"Population\":\"2 crore\",\n",
    "        \"Fact\":\"City of lights\"\n",
    "    },\n",
    "    \"lahore\":\n",
    "    {\n",
    "        \"Name\": \"Lahore\",\n",
    "        \"Country\":\"Pakistan\",\n",
    "        \"population\":\"1 crore\",\n",
    "        \"fact\":\"City of Data Sahab\"\n",
    "    },\n",
    "    \"islamabad\":\n",
    "    {\n",
    "        \"name\":\"Islamabad\",\n",
    "        \"country\":\"Pakistan\",\n",
    "        \"population\":\"1 crore\",\n",
    "        \"fact\":\"Capital city\"\n",
    "    }\n",
    "}\n",
    "print (cities[\"karachi\"])"
   ]
  },
  {
   "cell_type": "code",
   "execution_count": 30,
   "metadata": {},
   "outputs": [
    {
     "name": "stdout",
     "output_type": "stream",
     "text": [
      "{'Name': 'Lahore', 'Country': 'Pakistan', 'population': '1 crore', 'fact': 'City of Data Sahab'}\n"
     ]
    }
   ],
   "source": [
    "print (cities[\"lahore\"])"
   ]
  },
  {
   "cell_type": "code",
   "execution_count": 33,
   "metadata": {},
   "outputs": [
    {
     "name": "stdout",
     "output_type": "stream",
     "text": [
      "{'name': 'Islamabad', 'country': 'Pakistan', 'population': '1 crore', 'fact': 'Capital city'}\n"
     ]
    }
   ],
   "source": [
    "print (cities[\"islamabad\"])"
   ]
  },
  {
   "cell_type": "code",
   "execution_count": 5,
   "metadata": {},
   "outputs": [
    {
     "name": "stdout",
     "output_type": "stream",
     "text": [
      "Enter your age14\n",
      "Your ticket is 15$\n"
     ]
    }
   ],
   "source": [
    "# question 3\n",
    "age = int(input(\"Enter your age\"))\n",
    "if  age < 3:\n",
    "    print(\"Your ticket is free\")\n",
    "elif age >3 and age < 12:\n",
    "    print(\"Your ticket is 10$\")\n",
    "elif age > 12:\n",
    "    print(\"Your ticket is 15$\")    \n",
    "    "
   ]
  },
  {
   "cell_type": "code",
   "execution_count": 1,
   "metadata": {},
   "outputs": [
    {
     "name": "stdout",
     "output_type": "stream",
     "text": [
      "Please choose any num from 1 to 30...14\n",
      "try again...17\n",
      "you have last chance...16\n",
      "Excellent! You guess the correct number\n"
     ]
    }
   ],
   "source": [
    "# question 5\n",
    "\n",
    "\n",
    "q = [\"Please choose any num from 1 to 30...\", \"try again...\" , \"you have last chance...\"]\n",
    "\n",
    "for ques in q:\n",
    "     g = int(input(ques)); \n",
    "\n",
    "if g == 16: \n",
    "     print(\"Excellent! You guess the correct number\");  \n",
    "elif 16 < g:\n",
    "           print(\"Your num is greater than the correct number....\")\n",
    "elif 16 > g:\n",
    "        print(\"Your num is less than the correct number....\")\n",
    "             "
   ]
  },
  {
   "cell_type": "code",
   "execution_count": 7,
   "metadata": {},
   "outputs": [
    {
     "name": "stdout",
     "output_type": "stream",
     "text": [
      "My favourite is Alice in Wonderland\n"
     ]
    }
   ],
   "source": [
    "# question 4\n",
    "\n",
    "def favourite_book(title):\n",
    "\n",
    "    print(\"My favourite is Alice in Wonderland\")\n",
    "\n",
    "favourite_book(\"book_name\")"
   ]
  },
  {
   "cell_type": "code",
   "execution_count": null,
   "metadata": {},
   "outputs": [],
   "source": []
  }
 ],
 "metadata": {
  "kernelspec": {
   "display_name": "Python 3",
   "language": "python",
   "name": "python3"
  },
  "language_info": {
   "codemirror_mode": {
    "name": "ipython",
    "version": 3
   },
   "file_extension": ".py",
   "mimetype": "text/x-python",
   "name": "python",
   "nbconvert_exporter": "python",
   "pygments_lexer": "ipython3",
   "version": "3.7.4"
  }
 },
 "nbformat": 4,
 "nbformat_minor": 2
}
