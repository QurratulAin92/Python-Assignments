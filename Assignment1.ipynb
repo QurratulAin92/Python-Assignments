{
 "cells": [
  {
   "cell_type": "code",
   "execution_count": 1,
   "metadata": {},
   "outputs": [
    {
     "name": "stdout",
     "output_type": "stream",
     "text": [
      "Enter the radius of the circle...5\n",
      "78.57142857142857\n"
     ]
    }
   ],
   "source": [
    "radius = int(input(\"Enter the radius of the circle...\"));\n",
    "r = (radius**2)*(22/7);\n",
    "print(r);"
   ]
  },
  {
   "cell_type": "code",
   "execution_count": 2,
   "metadata": {},
   "outputs": [
    {
     "name": "stdout",
     "output_type": "stream",
     "text": [
      "Twinkle, twinkle, little star,\n",
      "       How I wonder what you are!\n",
      "              Up above the world so high,\n",
      "              Like a diamond in the sky.\n",
      "Twinkle, twinkle, little star,\n",
      "       How I wonder what you are!\n"
     ]
    }
   ],
   "source": [
    "\n",
    "print(\"Twinkle, twinkle, little star,\")\n",
    "print(\"       How I wonder what you are!\")\n",
    "print(\"              Up above the world so high,\")\n",
    "print(\"              Like a diamond in the sky.\")\n",
    "print(\"Twinkle, twinkle, little star,\")\n",
    "print(\"       How I wonder what you are!\")"
   ]
  },
  {
   "cell_type": "code",
   "execution_count": 3,
   "metadata": {},
   "outputs": [
    {
     "name": "stdout",
     "output_type": "stream",
     "text": [
      "Enter first number12\n",
      "Enter second number15\n",
      "27\n"
     ]
    }
   ],
   "source": [
    "num1 = int(input(\"Enter first number\"));\n",
    "num2 = int(input(\"Enter second number\"));\n",
    "add = num1 + num2\n",
    "print(add)"
   ]
  },
  {
   "cell_type": "code",
   "execution_count": 4,
   "metadata": {},
   "outputs": [
    {
     "name": "stdout",
     "output_type": "stream",
     "text": [
      "enter your first name..USAMA\n",
      "enter your last name..MUHAMMAD TAUFIQ\n",
      "MUHAMMAD TAUFIQ USAMA\n"
     ]
    }
   ],
   "source": [
    "firstname = input(\"enter your first name..\")\n",
    "lastname = input(\"enter your last name..\")\n",
    "print(lastname +\" \"+ firstname)"
   ]
  },
  {
   "cell_type": "code",
   "execution_count": null,
   "metadata": {},
   "outputs": [],
   "source": []
  }
 ],
 "metadata": {
  "kernelspec": {
   "display_name": "Python 3",
   "language": "python",
   "name": "python3"
  },
  "language_info": {
   "codemirror_mode": {
    "name": "ipython",
    "version": 3
   },
   "file_extension": ".py",
   "mimetype": "text/x-python",
   "name": "python",
   "nbconvert_exporter": "python",
   "pygments_lexer": "ipython3",
   "version": "3.7.4"
  }
 },
 "nbformat": 4,
 "nbformat_minor": 2
}
