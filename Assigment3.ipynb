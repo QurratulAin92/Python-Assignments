{
 "cells": [
  {
   "cell_type": "code",
   "execution_count": null,
   "metadata": {},
   "outputs": [],
   "source": [
    "# Question 1\n",
    "val1 = int(input(\"Enter first number\"))\n",
    "val2 = int(input(\"Enter second number\"))\n",
    "op = input(\"Enter operator\")\n",
    "if op == \"+\":\n",
    "    add = val1 + val2\n",
    "    print(add)\n",
    "elif op == \"-\":\n",
    "    sub = val1 - val2\n",
    "    print(sub)   \n",
    "elif op == \"*\":\n",
    "    mul = val1 * val2\n",
    "    print(mul)\n",
    "elif op == \"/\":\n",
    "    div = val1 / val2\n",
    "    print(div)    \n",
    "else:\n",
    "    print(\"You have used invalid operator\")"
   ]
  },
  {
   "cell_type": "code",
   "execution_count": null,
   "metadata": {},
   "outputs": [],
   "source": [
    "# Question 3\n",
    "customer_ahmed = {\n",
    "                \"name\"    :\"ahmed\",\n",
    "                \"surname\" :\"khan\",\n",
    "                \"language\":\"memon\" }\n",
    "customer_ahmed[\"address\"] = 'Karachi' \n",
    "print (customer_ahmed)\n"
   ]
  },
  {
   "cell_type": "code",
   "execution_count": null,
   "metadata": {},
   "outputs": [],
   "source": [
    "# Question 2\n",
    "a = 1\n",
    "\n",
    "li = [\"ali\" , 5 , \"ahmed\" , 6 , 4 , 7 ]\n",
    "for lis in li:\n",
    "    if lis == 1 or lis == 2 or lis == 3 or lis == 4 or lis == 5 or lis == 6 or lis == 7 or lis == 8 or lis == 9 or lis == 0:\n",
    "     print(lis);"
   ]
  },
  {
   "cell_type": "code",
   "execution_count": null,
   "metadata": {},
   "outputs": [],
   "source": [
    "# Question 6\n",
    "iqra_university = {\n",
    "                \"Student in commerce\" : 100,\n",
    "                \"Student in Botany\"   : 100,\n",
    "                \"Student in Physics\"  : 100,\n",
    "                \"Student in chemistry\": 100}\n",
    "iqra_university[\"Student in Zoology\"] = 100\n",
    "\n",
    "\n",
    "for iqraStudent in iqra_university.values():\n",
    "    if iqraStudent == iqra_university[\"Student in Zoology\"]:\n",
    "        print (\"ALREADY EXIST\")\n",
    "           "
   ]
  },
  {
   "cell_type": "code",
   "execution_count": null,
   "metadata": {},
   "outputs": [],
   "source": [
    "# Question 4\n",
    "iqra_university = {\n",
    "                \"Student in commerce\" : 100,\n",
    "                \"Student in Botany\"   : 100,\n",
    "                \"Student in Physics\"  : 100,\n",
    "                \"Student in chemistry\": 100}\n",
    "add = iqra_university[\"Student in commerce\"] + iqra_university[\"Student in Botany\"] +iqra_university[\"Student in Physics\"]\n",
    "+ iqra_university[\"Student in chemistry\"]\n",
    "print(add)"
   ]
  },
  {
   "cell_type": "code",
   "execution_count": null,
   "metadata": {},
   "outputs": [],
   "source": [
    "# Question 5\n",
    "li1  = [\"ali\" , 5 , \"ahmed\" , 6 , 5 , 7 ]\n",
    "for lis1 in li1:\n",
    "    if  lis1 ==li1:\n",
    "        print(lis1)\n",
    "\n",
    "\n"
   ]
  }
 ],
 "metadata": {
  "kernelspec": {
   "display_name": "Python 3",
   "language": "python",
   "name": "python3"
  },
  "language_info": {
   "codemirror_mode": {
    "name": "ipython",
    "version": 3
   },
   "file_extension": ".py",
   "mimetype": "text/x-python",
   "name": "python",
   "nbconvert_exporter": "python",
   "pygments_lexer": "ipython3",
   "version": "3.7.4"
  }
 },
 "nbformat": 4,
 "nbformat_minor": 2
}
